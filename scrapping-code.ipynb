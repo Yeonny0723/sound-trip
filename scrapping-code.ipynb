{
 "cells": [
  {
   "cell_type": "code",
   "execution_count": 9,
   "id": "eb2a2669",
   "metadata": {},
   "outputs": [],
   "source": [
    "# pip install selenium\n",
    "# pip install webdriver-manager\n",
    "# pip install fake-useragent"
   ]
  },
  {
   "cell_type": "code",
   "execution_count": 13,
   "id": "5294df37",
   "metadata": {},
   "outputs": [],
   "source": [
    "import pandas as pd\n",
    "import numpy as np\n",
    "import re\n",
    "import time\n",
    "from tqdm import tqdm\n",
    "from bs4 import BeautifulSoup\n",
    "\n",
    "# Scrapping\n",
    "import selenium\n",
    "from selenium import webdriver\n",
    "from selenium.webdriver.common.keys import Keys\n",
    "from selenium.webdriver.support.ui import WebDriverWait\n",
    "from selenium.webdriver.support import expected_conditions as EC\n",
    "from webdriver_manager.chrome import ChromeDriverManager\n",
    "from selenium.webdriver.common.by import By\n",
    "from selenium.webdriver.chrome.options import Options\n",
    "from fake_useragent import UserAgent\n",
    "\n",
    "# Error Handling\n",
    "import socket\n",
    "# import etcd\n",
    "\n",
    "import urllib3\n",
    "import urllib.request\n",
    "from urllib.request import urlopen\n",
    "from urllib.parse import quote_plus\n",
    "from urllib.request import urlretrieve\n",
    "from selenium.common.exceptions import NoSuchElementException, ElementNotInteractableException, ElementClickInterceptedException\n",
    "\n",
    "import warnings\n",
    "warnings.filterwarnings(\"ignore\")\n",
    "\n",
    "# file writing\n",
    "import json"
   ]
  },
  {
   "cell_type": "code",
   "execution_count": 55,
   "id": "353661a3",
   "metadata": {},
   "outputs": [],
   "source": [
    "class Audio:\n",
    "    def __init__(self):\n",
    "        self.missed_links = []\n",
    "        self.df = pd.DataFrame(columns =  [\"title\", \"audio\", \"tags\"])\n",
    "    \n",
    "    def handleMissedLink(self):\n",
    "        if self.missed_links:\n",
    "            print(f\"{self.missed_links} missed!\")\n",
    "        else:\n",
    "            print(\"peeerfect\")\n",
    "    \n",
    "    def scraping(self):\n",
    "        options = Options()\n",
    "        ua = UserAgent()\n",
    "        userAgent = ua.chrome\n",
    "        print(userAgent)\n",
    "        options.add_argument('headless')\n",
    "        options.add_argument('window-size=1920x1080')\n",
    "        options.add_argument(\"disable-gpu\")\n",
    "        options.add_argument(f'user-agent={userAgent}')\n",
    "\n",
    "        time.sleep(1)\n",
    "        wd = webdriver.Chrome(ChromeDriverManager().install(), chrome_options=options)\n",
    "        socket.setdefaulttimeout(30)\n",
    "\n",
    "        last = False\n",
    "        page = 1\n",
    "        error_link = []\n",
    "        df = pd.DataFrame(columns =  [\"title\", \"audio\", \"tags\"])\n",
    "\n",
    "        while True: \n",
    "            print(f\"*Page {page} started\")\n",
    "            url = f\"https://mixkit.co/free-sound-effects/ambience/?page={page}\"\n",
    "            try:\n",
    "                wd.get(url)\n",
    "            except WebDriverException:\n",
    "                error_link.append(url)\n",
    "                wd.close()\n",
    "                wd.quit()\n",
    "\n",
    "            html = wd.page_source\n",
    "            soup = BeautifulSoup(html,'html.parser')\n",
    "\n",
    "            containers = soup.find_all(\"div\", \"item-grid-item\")\n",
    "            for container in containers:\n",
    "                title = container.find(\"h2\", class_=\"item-grid-card__title\").text.replace(\"\\n\",\"\")\n",
    "                audio = container.find(\"div\", attrs={\"data-controller\": \"audio-player\"})['data-audio-player-preview-url-value']\n",
    "                tags = [el.text for el in container.find_all(\"a\", class_=\"meta-links__link\")]\n",
    "                df = df.append({\"title\": title, \"audio\": audio, \"tags\": tags}, ignore_index=True)\n",
    "\n",
    "            if not soup.find('a', class_=\"pagination__link--next\"): # 다음페이지 이동 버튼이 없다면 마지막 페이지\n",
    "                break\n",
    "                \n",
    "            page += 1\n",
    "\n",
    "        wd.close()\n",
    "        wd.quit()\n",
    "\n",
    "        self.df = df\n",
    "        self.missed_links = error_link\n",
    "        \n",
    "    def save_df(self):\n",
    "        self.df.to_csv(\"df_ambient_sound.csv\")\n",
    "        \n",
    "        tags = []\n",
    "        for i, row in self.df.iterrows():\n",
    "            tags += row['tags']\n",
    "        tags = list(set(tags)) # extract unique values\n",
    "        \n",
    "        tag_values = []\n",
    "        for tag in tags:\n",
    "            tag_values.append({ \"value\": tag, \"label\": tag.capitalize() })\n",
    "\n",
    "        tags_json = json.dumps(tag_values)\n",
    "        tag_lst_json = json.dumps(tags)\n",
    "        \n",
    "        with open(\"tags.json\", \"w\") as file:\n",
    "            file.write(tags_json)\n",
    "            \n",
    "        with open(\"tags_lst.json\", \"w\") as file:\n",
    "            file.write(tag_lst_json)\n",
    "    "
   ]
  },
  {
   "cell_type": "code",
   "execution_count": 56,
   "id": "c0b89f2d",
   "metadata": {
    "scrolled": true
   },
   "outputs": [
    {
     "name": "stdout",
     "output_type": "stream",
     "text": [
      "Mozilla/5.0 (Windows NT 6.2) AppleWebKit/537.36 (KHTML, like Gecko) Chrome/28.0.1464.0 Safari/537.36\n",
      "*Page 1 started\n",
      "*Page 2 started\n",
      "*Page 3 started\n",
      "*Page 4 started\n",
      "*Page 5 started\n"
     ]
    }
   ],
   "source": [
    "# 스크래핑 시작\n",
    "audio = Audio()\n",
    "audio.scraping()"
   ]
  },
  {
   "cell_type": "code",
   "execution_count": 57,
   "id": "71c956e5",
   "metadata": {},
   "outputs": [
    {
     "name": "stdout",
     "output_type": "stream",
     "text": [
      "peeerfect\n"
     ]
    }
   ],
   "source": [
    "# 유실 데이터 확인\n",
    "audio.handleMissedLink()"
   ]
  },
  {
   "cell_type": "code",
   "execution_count": 58,
   "id": "9f37ffee",
   "metadata": {},
   "outputs": [],
   "source": [
    "# 파일 저장\n",
    "audio.save_df()"
   ]
  },
  {
   "cell_type": "code",
   "execution_count": 44,
   "id": "e5895d92",
   "metadata": {},
   "outputs": [
    {
     "name": "stdout",
     "output_type": "stream",
     "text": [
      "<_io.TextIOWrapper name='df_ambient_sound.csv' mode='r' encoding='UTF-8'>\n"
     ]
    }
   ],
   "source": [
    "with open(\"df_ambient_sound.csv\") as file:\n",
    "    df = file\n",
    "    print(df)"
   ]
  },
  {
   "cell_type": "code",
   "execution_count": 59,
   "id": "6275e394",
   "metadata": {},
   "outputs": [
    {
     "name": "stdout",
     "output_type": "stream",
     "text": [
      "[\"Stomp\", \"Phone Ring\", \"Alerts\", \"Horror\", \"Splash\", \"Traffic\", \"Win\", \"Drop\", \"Bathroom\", \"Heartbeat\", \"Cheer\", \"Terror\", \"Chicken\", \"Children\", \"Horse\", \"Volcano\", \"Movie\", \"Sports\", \"Cinematic\", \"Waves\", \"Drone\", \"Beach\", \"Laugh\", \"Animals\", \"Rivers\", \"Keyboard\", \"Lightning\", \"Morning\", \"Drum\", \"Nature\", \"Footsteps\", \"Public Places\", \"Supermarket\", \"Tools\", \"Happy\", \"Truck\", \"Train\", \"Night\", \"Rain\", \"Scary Woods\", \"Office\", \"Farm\", \"Forest\", \"Voices\", \"High Tech\", \"Choir\", \"Scream\", \"Crowd\", \"Applause\", \"Lifestyle\", \"Party\", \"Technology\", \"Storm\", \"Jungle\", \"Warfare\", \"Halloween\", \"Fire\", \"Walk\", \"Hit\", \"Human\", \"Bird\", \"Asteroid\", \"Crickets\", \"Bus\", \"Wild\", \"Magic\", \"Ambience\", \"Restaurant\", \"Cow\", \"Wind\", \"Bubbles\", \"Bedroom\", \"Thunder\", \"Sea\", \"Run\", \"Tram\", \"Suspense Music\", \"Water\", \"Hum\", \"Insect\", \"Orchestra\", \"Airport\", \"Construction\", \"Hall\", \"Bar\", \"Transport\", \"Church Bell\", \"Engine\", \"Wood\", \"Car\", \"Robot\", \"City\", \"Safari\", \"Dog\", \"War\"]\n"
     ]
    }
   ],
   "source": [
    "with open(\"tags_lst.json\") as tags:\n",
    "    print(tags.readlines()[0])"
   ]
  },
  {
   "cell_type": "code",
   "execution_count": 47,
   "id": "671b266d",
   "metadata": {},
   "outputs": [
    {
     "name": "stdout",
     "output_type": "stream",
     "text": [
      "['[{\"value\": \"Stomp\", \"label\": \"Stomp\"}, {\"value\": \"Phone Ring\", \"label\": \"Phone ring\"}, {\"value\": \"Alerts\", \"label\": \"Alerts\"}, {\"value\": \"Horror\", \"label\": \"Horror\"}, {\"value\": \"Splash\", \"label\": \"Splash\"}, {\"value\": \"Traffic\", \"label\": \"Traffic\"}, {\"value\": \"Win\", \"label\": \"Win\"}, {\"value\": \"Drop\", \"label\": \"Drop\"}, {\"value\": \"Bathroom\", \"label\": \"Bathroom\"}, {\"value\": \"Heartbeat\", \"label\": \"Heartbeat\"}, {\"value\": \"Cheer\", \"label\": \"Cheer\"}, {\"value\": \"Terror\", \"label\": \"Terror\"}, {\"value\": \"Chicken\", \"label\": \"Chicken\"}, {\"value\": \"Children\", \"label\": \"Children\"}, {\"value\": \"Horse\", \"label\": \"Horse\"}, {\"value\": \"Volcano\", \"label\": \"Volcano\"}, {\"value\": \"Movie\", \"label\": \"Movie\"}, {\"value\": \"Sports\", \"label\": \"Sports\"}, {\"value\": \"Cinematic\", \"label\": \"Cinematic\"}, {\"value\": \"Waves\", \"label\": \"Waves\"}, {\"value\": \"Drone\", \"label\": \"Drone\"}, {\"value\": \"Beach\", \"label\": \"Beach\"}, {\"value\": \"Laugh\", \"label\": \"Laugh\"}, {\"value\": \"Animals\", \"label\": \"Animals\"}, {\"value\": \"Rivers\", \"label\": \"Rivers\"}, {\"value\": \"Keyboard\", \"label\": \"Keyboard\"}, {\"value\": \"Lightning\", \"label\": \"Lightning\"}, {\"value\": \"Morning\", \"label\": \"Morning\"}, {\"value\": \"Drum\", \"label\": \"Drum\"}, {\"value\": \"Nature\", \"label\": \"Nature\"}, {\"value\": \"Footsteps\", \"label\": \"Footsteps\"}, {\"value\": \"Public Places\", \"label\": \"Public places\"}, {\"value\": \"Supermarket\", \"label\": \"Supermarket\"}, {\"value\": \"Tools\", \"label\": \"Tools\"}, {\"value\": \"Happy\", \"label\": \"Happy\"}, {\"value\": \"Truck\", \"label\": \"Truck\"}, {\"value\": \"Train\", \"label\": \"Train\"}, {\"value\": \"Night\", \"label\": \"Night\"}, {\"value\": \"Rain\", \"label\": \"Rain\"}, {\"value\": \"Scary Woods\", \"label\": \"Scary woods\"}, {\"value\": \"Office\", \"label\": \"Office\"}, {\"value\": \"Farm\", \"label\": \"Farm\"}, {\"value\": \"Forest\", \"label\": \"Forest\"}, {\"value\": \"Voices\", \"label\": \"Voices\"}, {\"value\": \"High Tech\", \"label\": \"High tech\"}, {\"value\": \"Choir\", \"label\": \"Choir\"}, {\"value\": \"Scream\", \"label\": \"Scream\"}, {\"value\": \"Crowd\", \"label\": \"Crowd\"}, {\"value\": \"Applause\", \"label\": \"Applause\"}, {\"value\": \"Lifestyle\", \"label\": \"Lifestyle\"}, {\"value\": \"Party\", \"label\": \"Party\"}, {\"value\": \"Technology\", \"label\": \"Technology\"}, {\"value\": \"Storm\", \"label\": \"Storm\"}, {\"value\": \"Jungle\", \"label\": \"Jungle\"}, {\"value\": \"Warfare\", \"label\": \"Warfare\"}, {\"value\": \"Halloween\", \"label\": \"Halloween\"}, {\"value\": \"Fire\", \"label\": \"Fire\"}, {\"value\": \"Walk\", \"label\": \"Walk\"}, {\"value\": \"Hit\", \"label\": \"Hit\"}, {\"value\": \"Human\", \"label\": \"Human\"}, {\"value\": \"Bird\", \"label\": \"Bird\"}, {\"value\": \"Asteroid\", \"label\": \"Asteroid\"}, {\"value\": \"Crickets\", \"label\": \"Crickets\"}, {\"value\": \"Bus\", \"label\": \"Bus\"}, {\"value\": \"Wild\", \"label\": \"Wild\"}, {\"value\": \"Magic\", \"label\": \"Magic\"}, {\"value\": \"Ambience\", \"label\": \"Ambience\"}, {\"value\": \"Restaurant\", \"label\": \"Restaurant\"}, {\"value\": \"Cow\", \"label\": \"Cow\"}, {\"value\": \"Wind\", \"label\": \"Wind\"}, {\"value\": \"Bubbles\", \"label\": \"Bubbles\"}, {\"value\": \"Bedroom\", \"label\": \"Bedroom\"}, {\"value\": \"Thunder\", \"label\": \"Thunder\"}, {\"value\": \"Sea\", \"label\": \"Sea\"}, {\"value\": \"Run\", \"label\": \"Run\"}, {\"value\": \"Tram\", \"label\": \"Tram\"}, {\"value\": \"Suspense Music\", \"label\": \"Suspense music\"}, {\"value\": \"Water\", \"label\": \"Water\"}, {\"value\": \"Hum\", \"label\": \"Hum\"}, {\"value\": \"Insect\", \"label\": \"Insect\"}, {\"value\": \"Orchestra\", \"label\": \"Orchestra\"}, {\"value\": \"Airport\", \"label\": \"Airport\"}, {\"value\": \"Construction\", \"label\": \"Construction\"}, {\"value\": \"Hall\", \"label\": \"Hall\"}, {\"value\": \"Bar\", \"label\": \"Bar\"}, {\"value\": \"Transport\", \"label\": \"Transport\"}, {\"value\": \"Church Bell\", \"label\": \"Church bell\"}, {\"value\": \"Engine\", \"label\": \"Engine\"}, {\"value\": \"Wood\", \"label\": \"Wood\"}, {\"value\": \"Car\", \"label\": \"Car\"}, {\"value\": \"Robot\", \"label\": \"Robot\"}, {\"value\": \"City\", \"label\": \"City\"}, {\"value\": \"Safari\", \"label\": \"Safari\"}, {\"value\": \"Dog\", \"label\": \"Dog\"}, {\"value\": \"War\", \"label\": \"War\"}]']\n"
     ]
    }
   ],
   "source": [
    "with open(\"tags.json\") as tags:\n",
    "    print(tags.readlines())"
   ]
  },
  {
   "cell_type": "code",
   "execution_count": null,
   "id": "0b4d97dd",
   "metadata": {},
   "outputs": [],
   "source": []
  }
 ],
 "metadata": {
  "kernelspec": {
   "display_name": "Python 3",
   "language": "python",
   "name": "python3"
  },
  "language_info": {
   "codemirror_mode": {
    "name": "ipython",
    "version": 3
   },
   "file_extension": ".py",
   "mimetype": "text/x-python",
   "name": "python",
   "nbconvert_exporter": "python",
   "pygments_lexer": "ipython3",
   "version": "3.7.10"
  }
 },
 "nbformat": 4,
 "nbformat_minor": 5
}
